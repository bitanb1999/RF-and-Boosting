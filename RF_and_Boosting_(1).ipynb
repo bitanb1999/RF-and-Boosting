{
  "nbformat": 4,
  "nbformat_minor": 0,
  "metadata": {
    "kernelspec": {
      "name": "python3",
      "display_name": "Python 3",
      "language": "python"
    },
    "colab": {
      "name": "RF_and_Boosting (1).ipynb",
      "provenance": [],
      "toc_visible": true,
      "include_colab_link": true
    }
  },
  "cells": [
    {
      "cell_type": "markdown",
      "metadata": {
        "id": "view-in-github",
        "colab_type": "text"
      },
      "source": [
        "<a href=\"https://colab.research.google.com/github/bitanb1999/RF-and-Boosting/blob/main/RF_and_Boosting_(1).ipynb\" target=\"_parent\"><img src=\"https://colab.research.google.com/assets/colab-badge.svg\" alt=\"Open In Colab\"/></a>"
      ]
    },
    {
      "cell_type": "markdown",
      "metadata": {
        "id": "4Asnli62MHPW"
      },
      "source": [
        "# Practicalities of Random Forests and Gradient Boosted Regression Trees\n",
        "\n",
        "We will look here into the practicalities of fitting random forests and GBRT. These involve out-of-bound estmates and cross-validation, and how you might want to deal with hyperparameters in these models. Along the way we will play a little bit with different loss functions, so that you start thinking about what goes in general into cooking up a machine learning model."
      ]
    },
    {
      "cell_type": "code",
      "metadata": {
        "id": "0u-vB_5LMHPm"
      },
      "source": [
        "%matplotlib inline\n",
        "import numpy as np\n",
        "import scipy as sp\n",
        "import matplotlib as mpl\n",
        "import matplotlib.cm as cm\n",
        "import matplotlib.pyplot as plt\n",
        "import pandas as pd\n",
        "import seaborn as sns\n",
        "import sklearn\n",
        "from sklearn.datasets import fetch_california_housing"
      ],
      "execution_count": 1,
      "outputs": []
    },
    {
      "cell_type": "markdown",
      "metadata": {
        "id": "upDW2dBlMHPp"
      },
      "source": [
        "## Dataset\n",
        "\n",
        "First, the data. This one is built into sklearn, its a dataset about california housing prices. Its quite skewed as we shall see."
      ]
    },
    {
      "cell_type": "code",
      "metadata": {
        "colab": {
          "base_uri": "https://localhost:8080/"
        },
        "id": "Z9-vaU0UMHPq",
        "outputId": "64b4b1f4-a2cb-44b8-8a85-696864f559d1"
      },
      "source": [
        "cal_housing = sklearn.datasets.fetch_california_housing()"
      ],
      "execution_count": 2,
      "outputs": [
        {
          "output_type": "stream",
          "text": [
            "Downloading Cal. housing from https://ndownloader.figshare.com/files/5976036 to /root/scikit_learn_data\n"
          ],
          "name": "stderr"
        }
      ]
    },
    {
      "cell_type": "code",
      "metadata": {
        "colab": {
          "base_uri": "https://localhost:8080/"
        },
        "id": "8IS8lq-6MHP1",
        "outputId": "0aa347cd-4bc4-4917-9c91-82bd5918faea"
      },
      "source": [
        "print(cal_housing['DESCR'])"
      ],
      "execution_count": 3,
      "outputs": [
        {
          "output_type": "stream",
          "text": [
            ".. _california_housing_dataset:\n",
            "\n",
            "California Housing dataset\n",
            "--------------------------\n",
            "\n",
            "**Data Set Characteristics:**\n",
            "\n",
            "    :Number of Instances: 20640\n",
            "\n",
            "    :Number of Attributes: 8 numeric, predictive attributes and the target\n",
            "\n",
            "    :Attribute Information:\n",
            "        - MedInc        median income in block\n",
            "        - HouseAge      median house age in block\n",
            "        - AveRooms      average number of rooms\n",
            "        - AveBedrms     average number of bedrooms\n",
            "        - Population    block population\n",
            "        - AveOccup      average house occupancy\n",
            "        - Latitude      house block latitude\n",
            "        - Longitude     house block longitude\n",
            "\n",
            "    :Missing Attribute Values: None\n",
            "\n",
            "This dataset was obtained from the StatLib repository.\n",
            "http://lib.stat.cmu.edu/datasets/\n",
            "\n",
            "The target variable is the median house value for California districts.\n",
            "\n",
            "This dataset was derived from the 1990 U.S. census, using one row per census\n",
            "block group. A block group is the smallest geographical unit for which the U.S.\n",
            "Census Bureau publishes sample data (a block group typically has a population\n",
            "of 600 to 3,000 people).\n",
            "\n",
            "It can be downloaded/loaded using the\n",
            ":func:`sklearn.datasets.fetch_california_housing` function.\n",
            "\n",
            ".. topic:: References\n",
            "\n",
            "    - Pace, R. Kelley and Ronald Barry, Sparse Spatial Autoregressions,\n",
            "      Statistics and Probability Letters, 33 (1997) 291-297\n",
            "\n"
          ],
          "name": "stdout"
        }
      ]
    },
    {
      "cell_type": "code",
      "metadata": {
        "id": "R8VLyGyzMHP5"
      },
      "source": [
        "from sklearn.model_selection import train_test_split"
      ],
      "execution_count": 4,
      "outputs": []
    },
    {
      "cell_type": "code",
      "metadata": {
        "id": "r4J8B4WKMHP6"
      },
      "source": [
        "# split 80/20 train-test\n",
        "Xtrain, Xtest, ytrain, ytest = train_test_split(cal_housing.data,\n",
        "                                                    cal_housing.target,\n",
        "                                                    test_size=0.3)\n",
        "names = cal_housing.feature_names"
      ],
      "execution_count": 5,
      "outputs": []
    },
    {
      "cell_type": "code",
      "metadata": {
        "colab": {
          "base_uri": "https://localhost:8080/"
        },
        "id": "Z_8soXrvMHP7",
        "outputId": "e7066c02-1871-4454-f901-8c599e47a474"
      },
      "source": [
        "ytrain.shape, ytest.shape"
      ],
      "execution_count": 6,
      "outputs": [
        {
          "output_type": "execute_result",
          "data": {
            "text/plain": [
              "((14448,), (6192,))"
            ]
          },
          "metadata": {
            "tags": []
          },
          "execution_count": 6
        }
      ]
    },
    {
      "cell_type": "code",
      "metadata": {
        "colab": {
          "base_uri": "https://localhost:8080/",
          "height": 770
        },
        "id": "QVPK5_z6MHP8",
        "outputId": "5031ba3f-82eb-4c38-b5b3-4e6364003ab5"
      },
      "source": [
        "df = pd.DataFrame(data=Xtrain, columns=names)\n",
        "df['MedHouseVal'] = ytrain\n",
        "fig, ax = plt.subplots(figsize=(12,12))\n",
        "df.hist(column=['Latitude', 'Longitude', 'MedInc', 'MedHouseVal'], ax=ax);"
      ],
      "execution_count": 7,
      "outputs": [
        {
          "output_type": "stream",
          "text": [
            "/usr/local/lib/python3.7/dist-packages/ipykernel_launcher.py:4: UserWarning: To output multiple subplots, the figure containing the passed axes is being cleared\n",
            "  after removing the cwd from sys.path.\n"
          ],
          "name": "stderr"
        },
        {
          "output_type": "display_data",
          "data": {
            "image/png": "[encoded data removed]",
            "text/plain": [
              "<Figure size 864x864 with 4 Axes>"
            ]
          },
          "metadata": {
            "tags": [],
            "needs_background": "light"
          }
        }
      ]
    },
    {
      "cell_type": "markdown",
      "metadata": {
        "id": "hkYNK7wBMHP-"
      },
      "source": [
        "Notice the high bump in the median house value. why do you think that is? How might you model it?"
      ]
    },
    {
      "cell_type": "code",
      "metadata": {
        "colab": {
          "base_uri": "https://localhost:8080/",
          "height": 195
        },
        "id": "PjqjlvOsMHQA",
        "outputId": "7cd2a214-d9ab-42e2-a106-716c15db457e"
      },
      "source": [
        "df.head()"
      ],
      "execution_count": 8,
      "outputs": [
        {
          "output_type": "execute_result",
          "data": {
            "text/html": [
              "<div>\n",
              "<style scoped>\n",
              "    .dataframe tbody tr th:only-of-type {\n",
              "        vertical-align: middle;\n",
              "    }\n",
              "\n",
              "    .dataframe tbody tr th {\n",
              "        vertical-align: top;\n",
              "    }\n",
              "\n",
              "    .dataframe thead th {\n",
              "        text-align: right;\n",
              "    }\n",
              "</style>\n",
              "<table border=\"1\" class=\"dataframe\">\n",
              "  <thead>\n",
              "    <tr style=\"text-align: right;\">\n",
              "      <th></th>\n",
              "      <th>MedInc</th>\n",
              "      <th>HouseAge</th>\n",
              "      <th>AveRooms</th>\n",
              "      <th>AveBedrms</th>\n",
              "      <th>Population</th>\n",
              "      <th>AveOccup</th>\n",
              "      <th>Latitude</th>\n",
              "      <th>Longitude</th>\n",
              "      <th>MedHouseVal</th>\n",
              "    </tr>\n",
              "  </thead>\n",
              "  <tbody>\n",
              "    <tr>\n",
              "      <th>0</th>\n",
              "      <td>6.9833</td>\n",
              "      <td>10.0</td>\n",
              "      <td>10.765466</td>\n",
              "      <td>1.853186</td>\n",
              "      <td>2186.0</td>\n",
              "      <td>2.018467</td>\n",
              "      <td>33.69</td>\n",
              "      <td>-116.39</td>\n",
              "      <td>2.388</td>\n",
              "    </tr>\n",
              "    <tr>\n",
              "      <th>1</th>\n",
              "      <td>2.8043</td>\n",
              "      <td>16.0</td>\n",
              "      <td>5.158228</td>\n",
              "      <td>0.989451</td>\n",
              "      <td>721.0</td>\n",
              "      <td>1.521097</td>\n",
              "      <td>37.99</td>\n",
              "      <td>-122.06</td>\n",
              "      <td>0.875</td>\n",
              "    </tr>\n",
              "    <tr>\n",
              "      <th>2</th>\n",
              "      <td>4.0588</td>\n",
              "      <td>45.0</td>\n",
              "      <td>5.822275</td>\n",
              "      <td>1.054502</td>\n",
              "      <td>1129.0</td>\n",
              "      <td>2.675355</td>\n",
              "      <td>37.68</td>\n",
              "      <td>-122.13</td>\n",
              "      <td>1.828</td>\n",
              "    </tr>\n",
              "    <tr>\n",
              "      <th>3</th>\n",
              "      <td>2.7717</td>\n",
              "      <td>25.0</td>\n",
              "      <td>5.791757</td>\n",
              "      <td>1.143167</td>\n",
              "      <td>936.0</td>\n",
              "      <td>2.030369</td>\n",
              "      <td>33.12</td>\n",
              "      <td>-117.32</td>\n",
              "      <td>3.540</td>\n",
              "    </tr>\n",
              "    <tr>\n",
              "      <th>4</th>\n",
              "      <td>1.6111</td>\n",
              "      <td>26.0</td>\n",
              "      <td>3.656134</td>\n",
              "      <td>1.072491</td>\n",
              "      <td>692.0</td>\n",
              "      <td>1.286245</td>\n",
              "      <td>33.76</td>\n",
              "      <td>-118.08</td>\n",
              "      <td>0.543</td>\n",
              "    </tr>\n",
              "  </tbody>\n",
              "</table>\n",
              "</div>"
            ],
            "text/plain": [
              "   MedInc  HouseAge   AveRooms  ...  Latitude  Longitude  MedHouseVal\n",
              "0  6.9833      10.0  10.765466  ...     33.69    -116.39        2.388\n",
              "1  2.8043      16.0   5.158228  ...     37.99    -122.06        0.875\n",
              "2  4.0588      45.0   5.822275  ...     37.68    -122.13        1.828\n",
              "3  2.7717      25.0   5.791757  ...     33.12    -117.32        3.540\n",
              "4  1.6111      26.0   3.656134  ...     33.76    -118.08        0.543\n",
              "\n",
              "[5 rows x 9 columns]"
            ]
          },
          "metadata": {
            "tags": []
          },
          "execution_count": 8
        }
      ]
    },
    {
      "cell_type": "code",
      "metadata": {
        "colab": {
          "base_uri": "https://localhost:8080/"
        },
        "id": "55dNCRpKMHQB",
        "outputId": "14884c24-0dad-49dc-a93e-583aed33da60"
      },
      "source": [
        "df.shape"
      ],
      "execution_count": 9,
      "outputs": [
        {
          "output_type": "execute_result",
          "data": {
            "text/plain": [
              "(14448, 9)"
            ]
          },
          "metadata": {
            "tags": []
          },
          "execution_count": 9
        }
      ]
    },
    {
      "cell_type": "markdown",
      "metadata": {
        "id": "AIV9O1wTMHQC"
      },
      "source": [
        "## General Trees\n",
        "\n",
        "We could use a simple Decision Tree regressor to fit such a model. \n",
        "\n",
        "This is what you ought to keep in mind about decision trees.\n",
        "\n",
        "from the docs:\n",
        "```\n",
        "max_depth : int or None, optional (default=None)\n",
        "The maximum depth of the tree. If None, then nodes are expanded until all leaves are pure or until all leaves contain less than min_samples_split samples.\n",
        "min_samples_split : int, float, optional (default=2)\n",
        "```\n",
        "\n",
        "- The deeper the tree, the more prone you are to overfitting.\n",
        "- The smaller `min_samples_split`, the more the overfitting. One may use `min_samples_leaf` instead. More samples per leaf, the higher the bias."
      ]
    },
    {
      "cell_type": "markdown",
      "metadata": {
        "id": "0NUKLbXPMHQD"
      },
      "source": [
        "## Random Forests\n",
        "\n",
        "Whats the basic idea?\n",
        "\n",
        "- Decision trees overfit\n",
        "- So lets introduce randomization.\n",
        "- Randomization 1: Use bootstrap resampling to create different training datasets. This way each training will give us a different tree and the robust aspects of the regression will remain.\n",
        "- Added advantage is that the left off points can be used to \"validate\"\n",
        "- Just like in polynomials we can choose a large `max_depth` and we are ok as we expect the robust signal to remain"
      ]
    },
    {
      "cell_type": "markdown",
      "metadata": {
        "id": "i2BYUbLlMHQE"
      },
      "source": [
        "### Bagging Hyper-parameters and Tuning Strategy\n",
        "\n",
        "- recall we want somewhat overfit trees at the very least. But start by having unrestricted trees. We dont want bias in our trees.\n",
        "- now we will want to increase the number of trees in our ensemble (start about 20-30). Since each tree only sees about 2/3 of the data, increasing the number of trees `n_estimators` increases the use of our training data.\n",
        "- there will be a number of trees at which this error asymptotes. Adding more trees is not useful. This is because the ensemble has now seen ALL the training data. We are approaching the accuracy of a single tree without its variance.\n",
        "\n",
        "\n",
        "- for some datasets, using fully grown trees (no limits on samples in leaf or max depth) may not work as the degree of randomization bagging can achieve is not enough to overcome the variance (overfitting). This is partly because of correlation\n",
        "-  Depending on the dataset you will want to choose `max_depth` and `min_samples_leaf` so that you are overfit but not highly overfit. (the most bang for the buck comes from adjusting `min_samples_leaf` upwards, but you might need to play with `max_depth` as well)\n",
        "- subsampling without replacement might be an option because it will decorrelate trees. If you use $$B/2$$ subsamples you get similar results to bagging. (See [here](http://statweb.stanford.edu/~jhf/ftp/bag.pdf).) But our trees now have more bias.\n",
        "- you can do grid search or informal play as long as your compare performance on OOB or the validation set.\n",
        "\n"
      ]
    },
    {
      "cell_type": "markdown",
      "metadata": {
        "id": "2AiySf-TMHQF"
      },
      "source": [
        "### Random Forest Hyperparameters and Tuning Strategy\n",
        "\n",
        "- Not much tuning needed. As for bagging, we want to start with unrestricted trees.\n",
        "- Start with 20-30 trees and add more trees until validation error stops getting better.\n",
        "- Max features needs to be tuned. Try $$\\sqrt{p}$$, or even lower $$log(p)$$ but do not make it too low.\n",
        "- You may still be overfit with unrestricted trees, so then adjust `min_samples_leaf` upwards.\n",
        "- you can do grid search or informal play as long as your compare performance on OOB or the validation set.\n",
        "\n",
        "\n",
        "#### Building in even more variance\n",
        "\n",
        "- you could make the random forest choose from a restricted feature list to make things even more randomized.\n",
        "- `sklearn` has `ExtraTreesClassifier` and `ExtraTreesRegressor` classes, which take the careful impurity minimization from decision trees and throw it out... See [Geurts et al](https://link.springer.com/article/10.1007/s10994-006-6226-1).\n",
        "- That paper (and sklearn) pick a random split AND a random set of features. The fit is done without bootstrapping or subsampling to increase accuracy now that we are not trying to minimize impurity\n",
        "- sklearn propagates random splits, bootstrap/no-bootstrap and `max_features` down even to decision trees class so you can play with these choices in the context of Bagging, or even Boosting.\n",
        "\n",
        "---"
      ]
    },
    {
      "cell_type": "code",
      "metadata": {
        "id": "MWEmXsN1MHQG"
      },
      "source": [
        "from sklearn.ensemble import RandomForestRegressor"
      ],
      "execution_count": 10,
      "outputs": []
    },
    {
      "cell_type": "code",
      "metadata": {
        "colab": {
          "base_uri": "https://localhost:8080/"
        },
        "id": "JKkNzkzrMHQH",
        "outputId": "5f22212a-52c3-4e53-fadb-39ce08348b60"
      },
      "source": [
        "# code from \n",
        "# Adventures in scikit-learn's Random Forest by Gregory Saunders\n",
        "from itertools import product\n",
        "from collections import OrderedDict\n",
        "param_dict = OrderedDict(\n",
        "    n_estimators = [400, 600, 800],\n",
        "    max_features = [0.2, 0.4, 0.6, 0.8]\n",
        ")\n",
        "\n",
        "param_dict.values()"
      ],
      "execution_count": 11,
      "outputs": [
        {
          "output_type": "execute_result",
          "data": {
            "text/plain": [
              "odict_values([[400, 600, 800], [0.2, 0.4, 0.6, 0.8]])"
            ]
          },
          "metadata": {
            "tags": []
          },
          "execution_count": 11
        }
      ]
    },
    {
      "cell_type": "markdown",
      "metadata": {
        "id": "P2gjGz-NMHQH"
      },
      "source": [
        "Here we create a Param Grid. We are preparing to use the bootstrap points not used to validate.\n",
        "\n",
        "```\n",
        "max_features : int, float, string or None, optional (default=”auto”)\n",
        "The number of features to consider when looking for the best split.\n",
        "```\n",
        "\n",
        "- `max_features`: Default splits on all the features and is probably prone to overfitting. You'll want to validate on this. \n",
        "- You can \"validate\" on the trees `n_estimators` as well but many a times you will just look for the plateau in the trees as seen below.\n",
        "- From decision trees you get the `max_depth`, `min_samples_split`, and `min_samples_leaf` as well but you might as well leave those at defaults to get a maximally expanded tree."
      ]
    },
    {
      "cell_type": "markdown",
      "metadata": {
        "id": "Lh2CocJNMHQI"
      },
      "source": [
        "### Using the OOB score.\n",
        "\n",
        "We have been putting \"validate\" in quotes. This is because the bootstrap gives us left-over points! So we'll now engage in our very own version of a grid-search, done over the out-of-bag scores that `sklearn` gives us for free"
      ]
    },
    {
      "cell_type": "code",
      "metadata": {
        "id": "RcSZHxYUMHQJ"
      },
      "source": [
        "from itertools import product"
      ],
      "execution_count": 12,
      "outputs": []
    },
    {
      "cell_type": "code",
      "metadata": {
        "colab": {
          "base_uri": "https://localhost:8080/"
        },
        "id": "A-9TNtZbMHQK",
        "outputId": "e59dd1d0-e8e5-4520-faf0-4dbdae965da2"
      },
      "source": [
        "results = {}\n",
        "estimators= {}\n",
        "for n, f in product(*param_dict.values()):\n",
        "    params = (n, f)\n",
        "    est = RandomForestRegressor(oob_score=True, \n",
        "                                n_estimators=n, max_features=f, n_jobs=-1)\n",
        "    est.fit(Xtrain, ytrain)\n",
        "    results[params] = est.oob_score_\n",
        "    estimators[params] = est\n",
        "outparams = max(results, key = results.get)\n",
        "outparams"
      ],
      "execution_count": 13,
      "outputs": [
        {
          "output_type": "execute_result",
          "data": {
            "text/plain": [
              "(600, 0.4)"
            ]
          },
          "metadata": {
            "tags": []
          },
          "execution_count": 13
        }
      ]
    },
    {
      "cell_type": "code",
      "metadata": {
        "id": "x3eQtIrQMHQN"
      },
      "source": [
        "rf1 = estimators[outparams]"
      ],
      "execution_count": 14,
      "outputs": []
    },
    {
      "cell_type": "code",
      "metadata": {
        "colab": {
          "base_uri": "https://localhost:8080/"
        },
        "id": "HjLq9UeoMHQP",
        "outputId": "c805e489-8208-4812-e6b5-72e323b7a738"
      },
      "source": [
        "results"
      ],
      "execution_count": 15,
      "outputs": [
        {
          "output_type": "execute_result",
          "data": {
            "text/plain": [
              "{(400, 0.2): 0.7874943522367958,\n",
              " (400, 0.4): 0.8164441033161274,\n",
              " (400, 0.6): 0.8136486449398679,\n",
              " (400, 0.8): 0.8061068751750526,\n",
              " (600, 0.2): 0.7877933781432064,\n",
              " (600, 0.4): 0.8172588580531532,\n",
              " (600, 0.6): 0.8134819982896413,\n",
              " (600, 0.8): 0.8069589356189376,\n",
              " (800, 0.2): 0.7883077781570141,\n",
              " (800, 0.4): 0.8171192423293651,\n",
              " (800, 0.6): 0.8136715489522891,\n",
              " (800, 0.8): 0.8071557879669072}"
            ]
          },
          "metadata": {
            "tags": []
          },
          "execution_count": 15
        }
      ]
    },
    {
      "cell_type": "code",
      "metadata": {
        "colab": {
          "base_uri": "https://localhost:8080/"
        },
        "id": "cY_cJgl-MHQQ",
        "outputId": "2ee7aec8-2090-42fc-d896-0ee66c2e1aef"
      },
      "source": [
        "rf1.score(Xtest, ytest)"
      ],
      "execution_count": 16,
      "outputs": [
        {
          "output_type": "execute_result",
          "data": {
            "text/plain": [
              "0.8266450087732605"
            ]
          },
          "metadata": {
            "tags": []
          },
          "execution_count": 16
        }
      ]
    },
    {
      "cell_type": "markdown",
      "metadata": {
        "id": "7ZHdbpwCMHQR"
      },
      "source": [
        "Since our response is very skewed at the higher end, we may want to suppress outliers by using the `mean_absolute_error` instead. We could also use a ladder transformation."
      ]
    },
    {
      "cell_type": "code",
      "metadata": {
        "colab": {
          "base_uri": "https://localhost:8080/"
        },
        "id": "kKKtdnkWMHQS",
        "outputId": "353a4b6c-67a7-4418-b399-c6671ee7275e"
      },
      "source": [
        "from sklearn.metrics import mean_absolute_error\n",
        "mean_absolute_error(ytest, rf1.predict(Xtest))"
      ],
      "execution_count": 17,
      "outputs": [
        {
          "output_type": "execute_result",
          "data": {
            "text/plain": [
              "0.32028863977857897"
            ]
          },
          "metadata": {
            "tags": []
          },
          "execution_count": 17
        }
      ]
    },
    {
      "cell_type": "markdown",
      "metadata": {
        "id": "_ATCVr9PMHQT"
      },
      "source": [
        "`sklearn` supports this (`criterion='mae'`) since 0.18, but does not have arbitrary loss functions for Random Forests. You can try fitting with MAE as the decision tree loss.\n"
      ]
    },
    {
      "cell_type": "markdown",
      "metadata": {
        "id": "yfM_xrW-MHQT"
      },
      "source": [
        "Finally you can get feature importances. Whenever a feature is used in a tree in the forest, the algorithm will log the decrease in the splitting criterion such as gini. This is accumulated over all trees and reported in `est.feature_importances_`"
      ]
    },
    {
      "cell_type": "code",
      "metadata": {
        "colab": {
          "base_uri": "https://localhost:8080/",
          "height": 282
        },
        "id": "P6s6yyUgMHQU",
        "outputId": "78f704c0-42c2-406b-bf3a-719f2d98c5a2"
      },
      "source": [
        "pd.Series(rf1.feature_importances_, index=names).sort_values().plot(kind=\"barh\")"
      ],
      "execution_count": 18,
      "outputs": [
        {
          "output_type": "execute_result",
          "data": {
            "text/plain": [
              "<matplotlib.axes._subplots.AxesSubplot at 0x7fa46ce425d0>"
            ]
          },
          "metadata": {
            "tags": []
          },
          "execution_count": 18
        },
        {
          "output_type": "display_data",
          "data": {
            "image/png": "[encoded data removed]",
            "text/plain": [
              "<Figure size 432x288 with 1 Axes>"
            ]
          },
          "metadata": {
            "tags": [],
            "needs_background": "light"
          }
        }
      ]
    },
    {
      "cell_type": "markdown",
      "metadata": {
        "id": "M0hy3DtKMHQW"
      },
      "source": [
        "### Seeing error as a function of the number of trees\n",
        "\n",
        "We can instead, of different `max_features` see how performance varies across the number of trees one uses: (this will take a while to run!)"
      ]
    },
    {
      "cell_type": "code",
      "metadata": {
        "id": "m_BRw7wVMHQX"
      },
      "source": [
        "# from http://scikit-learn.org/stable/auto_examples/ensemble/plot_ensemble_oob.html\n",
        "\n",
        "feats = param_dict['max_features']\n",
        "# \n",
        "error_rate = OrderedDict((label, []) for label in feats)\n",
        "\n",
        "# Range of `n_estimators` values to explore.\n",
        "min_estimators = 200\n",
        "step_estimators = 200\n",
        "num_steps = 3\n",
        "max_estimators = min_estimators + step_estimators*num_steps\n",
        "for label in feats:\n",
        "    for i in range(min_estimators, max_estimators+1, step_estimators):\n",
        "        clf = RandomForestRegressor(oob_score=True, max_features=label)\n",
        "        clf.set_params(n_estimators=i)\n",
        "        clf.fit(Xtrain, ytrain)\n",
        "\n",
        "        # Record the OOB error for each `n_estimators=i` setting.\n",
        "        oob_error = 1 - clf.oob_score_\n",
        "        error_rate[label].append((i, oob_error))"
      ],
      "execution_count": 19,
      "outputs": []
    },
    {
      "cell_type": "code",
      "metadata": {
        "colab": {
          "base_uri": "https://localhost:8080/",
          "height": 515
        },
        "id": "zcmRLlYGMHQY",
        "outputId": "ad72ef76-4115-4b6c-a56e-818634148f53"
      },
      "source": [
        "# Generate the \"OOB error rate\" vs. \"n_estimators\" plot.\n",
        "fig, ax = plt.subplots(figsize=(12, 8))\n",
        "for label, clf_err in error_rate.items():\n",
        "    xs, ys = zip(*clf_err)\n",
        "    ax.plot(xs, ys, label=label)\n",
        "\n",
        "ax.set_xlim(min_estimators, max_estimators)\n",
        "ax.set_xlabel(\"n_estimators\")\n",
        "ax.set_ylabel(\"OOB error rate\")\n",
        "ax.legend(loc=\"upper right\")"
      ],
      "execution_count": 20,
      "outputs": [
        {
          "output_type": "execute_result",
          "data": {
            "text/plain": [
              "<matplotlib.legend.Legend at 0x7fa46ccedbd0>"
            ]
          },
          "metadata": {
            "tags": []
          },
          "execution_count": 20
        },
        {
          "output_type": "display_data",
          "data": {
            "image/png": "[encoded data removed]",
            "text/plain": [
              "<Figure size 864x576 with 1 Axes>"
            ]
          },
          "metadata": {
            "tags": [],
            "needs_background": "light"
          }
        }
      ]
    },
    {
      "cell_type": "markdown",
      "metadata": {
        "id": "I96VU0eVMHQY"
      },
      "source": [
        "The OOB error decreases with the number of trees, but goes up at the best `max_features`. 600 trees is probably about right."
      ]
    },
    {
      "cell_type": "markdown",
      "metadata": {
        "id": "fkNOGmANMHQZ"
      },
      "source": [
        "## Gradient Boosted Regression Trees\n",
        "\n",
        "Adaboost Classification is a special case of a gradient-boosted algorithm. \n",
        "\n",
        "But briefly, let us cover the idea here. The idea is that we will use a bunch of weak learners and fit sequentially. The first one fits the signal, the second one the first residual, the third the second residual and so on. At each stage we up-weight the places that our previous learner did badly on. "
      ]
    },
    {
      "cell_type": "code",
      "metadata": {
        "id": "uHN1dxdlMHQZ"
      },
      "source": [
        "from sklearn.ensemble import GradientBoostingRegressor"
      ],
      "execution_count": 21,
      "outputs": []
    },
    {
      "cell_type": "markdown",
      "metadata": {
        "id": "nSbEgzAvMHQa"
      },
      "source": [
        "- `n_estimators` is the number of trees, and thus the stage in the fitting. It also controls the complexity for us. The more trees we have the more we fit to the tiny details.\n",
        "- `staged_predict` gives us the prediction at each step\n",
        "- once again `max_depth` from the underlying decision tree tells us the depth of the tree. But here it tells us the amount of features interactions we have, not just the scale of our fit. Increasing it increases the variance usually as you fit more complex trees.\n",
        "\n",
        "We can think of decomposing a boosted tree regression function using an ANOVA expansion:\n",
        "\n",
        "$$\n",
        "f(\\mathbf{x})=\\sum_{j} f_{j}\\left(x_{j}\\right)+\\sum_{j k} f_{j k}\\left(x_{j}, x_{k}\\right)+\\sum_{j k \\ell} f_{j k \\ell}\\left(x_{j}, x_{k}, x_{\\ell}\\right)+\\cdots\n",
        "$$\n",
        "\n",
        "\n",
        "- Regression stumps (one split decision trees) depend on only one variable (first term),-  - - Two splits fall into the second term, finds 2 way interactions and so on and so-forth. \n",
        "\n",
        "The depth of the trees controls the order of approximation. Often additive components are sufficient. Then we can also produce partial dependence plots of $x_{j}$ versus $f_{j}\\left(x_{j}\\right)$ to demonstrate how changes in $x_{j}$ might affect changes in the response variable."
      ]
    },
    {
      "cell_type": "markdown",
      "metadata": {
        "id": "KQoHXXmXMHQb"
      },
      "source": [
        "### Ok, so how to do the fit?"
      ]
    },
    {
      "cell_type": "code",
      "metadata": {
        "colab": {
          "base_uri": "https://localhost:8080/"
        },
        "id": "aQ9nN1BiMHQd",
        "outputId": "739df123-27d2-4489-f62c-021c7a7904f5"
      },
      "source": [
        "gb = GradientBoostingRegressor(n_estimators=1000, max_depth=5)\n",
        "gb.fit(Xtrain, ytrain)\n"
      ],
      "execution_count": 22,
      "outputs": [
        {
          "output_type": "execute_result",
          "data": {
            "text/plain": [
              "GradientBoostingRegressor(alpha=0.9, ccp_alpha=0.0, criterion='friedman_mse',\n",
              "                          init=None, learning_rate=0.1, loss='ls', max_depth=5,\n",
              "                          max_features=None, max_leaf_nodes=None,\n",
              "                          min_impurity_decrease=0.0, min_impurity_split=None,\n",
              "                          min_samples_leaf=1, min_samples_split=2,\n",
              "                          min_weight_fraction_leaf=0.0, n_estimators=1000,\n",
              "                          n_iter_no_change=None, presort='deprecated',\n",
              "                          random_state=None, subsample=1.0, tol=0.0001,\n",
              "                          validation_fraction=0.1, verbose=0, warm_start=False)"
            ]
          },
          "metadata": {
            "tags": []
          },
          "execution_count": 22
        }
      ]
    },
    {
      "cell_type": "markdown",
      "metadata": {
        "id": "1eeGERx5MHQh"
      },
      "source": [
        "A deviance plot can be used to compare train and test errors against the number of iterations.\n",
        "\n",
        "- Training error (deviance, another word for loss) is stored in `est.train_score_`\n",
        "- Test error is computed using `est.staged_predict` (this uses `est.loss_`)"
      ]
    },
    {
      "cell_type": "code",
      "metadata": {
        "id": "-rdUSekzMHQi"
      },
      "source": [
        "def deviance_plot(est, X_test, y_test, ax=None, label='', train_color='#2c7bb6', \n",
        "                  test_color='#d7191c', alpha=1.0, ylim=(0, 10)):\n",
        "    \"\"\"Deviance plot for ``est``, use ``X_test`` and ``y_test`` for test error. \"\"\"\n",
        "    n_estimators = len(est.estimators_)\n",
        "    test_dev = np.empty(n_estimators)\n",
        "\n",
        "    for i, pred in enumerate(est.staged_predict(X_test)):\n",
        "       test_dev[i] = est.loss_(y_test, pred)\n",
        "\n",
        "    if ax is None:\n",
        "        fig, ax = plt.subplots(figsize = (12, 8))\n",
        "        \n",
        "    ax.plot(np.arange(n_estimators) + 1, test_dev, color=test_color, label='Test %s' % label, \n",
        "             linewidth=2, alpha=alpha)\n",
        "    ax.plot(np.arange(n_estimators) + 1, est.train_score_, color=train_color, \n",
        "             label='Train %s' % label, linewidth=2, alpha=alpha)\n",
        "    ax.set_ylabel('Error')\n",
        "    ax.set_xlabel('n_estimators')\n",
        "    ax.set_ylim(ylim)\n",
        "    return test_dev, ax"
      ],
      "execution_count": 23,
      "outputs": []
    },
    {
      "cell_type": "code",
      "metadata": {
        "colab": {
          "base_uri": "https://localhost:8080/",
          "height": 502
        },
        "id": "Hba8vWhHMHQj",
        "outputId": "36908090-7802-4be1-9a60-8f450079883f"
      },
      "source": [
        "deviance_plot(gb, Xtest, ytest, ylim=(0,0.8));\n",
        "plt.legend();"
      ],
      "execution_count": 24,
      "outputs": [
        {
          "output_type": "display_data",
          "data": {
            "image/png": "[encoded data removed]",
            "text/plain": [
              "<Figure size 864x576 with 1 Axes>"
            ]
          },
          "metadata": {
            "tags": [],
            "needs_background": "light"
          }
        }
      ]
    },
    {
      "cell_type": "markdown",
      "metadata": {
        "id": "Ta0pUvQWMHQk"
      },
      "source": [
        "Notice the wide gap. This is an indication of overfitting!"
      ]
    },
    {
      "cell_type": "markdown",
      "metadata": {
        "id": "fG9-mBfLMHQl"
      },
      "source": [
        "Unlike random forests, where we are using the randomness to our benefits, the GBRT requires careful cross-validation\n",
        "\n",
        "## Tuning a Gradient Boosted Model or Adaboost\n",
        "\n",
        "This formula is from Peter Preffenhorfer who wrote `sklearn`'s GBRT implementation. In his pydata14 talk (worth watching!) he says\n",
        "\n",
        "1. Pick `n_estimators` as large as (computationally) possible (e.g. 3000)\n",
        "2. Tune `max_depth`, `learning_rate`, `min_samples_leaf`, and `max_features` via grid search\n",
        "3. A lower `learning_rate` (shrinkage) requires a higher number of `n_estimators`. Thus increase `n_estimators` even more and tune learning_rate again holding the other parameters fixed\n",
        "\n",
        "This last point is a tradeoff between number of iterations or runtime against accuracy. And keep in mind that it might lead to overfitting.\n",
        "\n",
        "I will add however, that poor learners do rather well. So you might want to not cross-validate `max_depth`. And `min_samples_per_leaf` is not independent either, so if you do use cross-val, you might just use one of those."
      ]
    },
    {
      "cell_type": "markdown",
      "metadata": {
        "id": "9UBZyMmWMHQl"
      },
      "source": [
        "### Cross Validation with Huber Loss\n",
        "\n",
        "The Huber Loss may be used to deal with outliers. Here is a diagram from Cornell's CS4780:\n",
        "\n",
        "![](http://www.cs.cornell.edu/courses/cs4780/2015fa/web/lecturenotes/pngPic/c4/regressionlosses.png)"
      ]
    },
    {
      "cell_type": "markdown",
      "metadata": {
        "id": "Zy5_ui-OMHQl"
      },
      "source": [
        "We'll create a rough param grid to figure where the hyperparameters lie. You can engage in finer grid search later."
      ]
    },
    {
      "cell_type": "code",
      "metadata": {
        "id": "NTcpi0HBMHQm"
      },
      "source": [
        "param_grid = {'learning_rate': [0.1, 0.01],\n",
        "              'max_depth': [3, 6],\n",
        "              'min_samples_leaf': [3, 5],  ## depends on the num of training examples\n",
        "              'max_features': [0.2, 0.6]\n",
        "              }"
      ],
      "execution_count": 25,
      "outputs": []
    },
    {
      "cell_type": "code",
      "metadata": {
        "id": "esKCh_tYMHQm"
      },
      "source": [
        "from sklearn.model_selection import GridSearchCV\n",
        "gb = GradientBoostingRegressor(n_estimators=600, loss='huber')\n",
        "gb_cv = GridSearchCV(gb, param_grid, cv=3, n_jobs=-1)"
      ],
      "execution_count": 26,
      "outputs": []
    },
    {
      "cell_type": "markdown",
      "metadata": {
        "id": "YxpaR8dmMHQn"
      },
      "source": [
        "This will take some time! We've made a smaller grid, but things are still slow"
      ]
    },
    {
      "cell_type": "code",
      "metadata": {
        "colab": {
          "base_uri": "https://localhost:8080/"
        },
        "id": "IqJZkfOuMHQn",
        "outputId": "6f2c8ef7-b5d5-4622-ff42-5f777954bacc"
      },
      "source": [
        "gb_cv.fit(Xtrain, ytrain)"
      ],
      "execution_count": 27,
      "outputs": [
        {
          "output_type": "execute_result",
          "data": {
            "text/plain": [
              "GridSearchCV(cv=3, error_score=nan,\n",
              "             estimator=GradientBoostingRegressor(alpha=0.9, ccp_alpha=0.0,\n",
              "                                                 criterion='friedman_mse',\n",
              "                                                 init=None, learning_rate=0.1,\n",
              "                                                 loss='huber', max_depth=3,\n",
              "                                                 max_features=None,\n",
              "                                                 max_leaf_nodes=None,\n",
              "                                                 min_impurity_decrease=0.0,\n",
              "                                                 min_impurity_split=None,\n",
              "                                                 min_samples_leaf=1,\n",
              "                                                 min_samples_split=2,\n",
              "                                                 min_weight_fraction_leaf=0.0,\n",
              "                                                 n_estimators=600,\n",
              "                                                 n_iter_no_change=None,\n",
              "                                                 presort='deprecated',\n",
              "                                                 random_state=None,\n",
              "                                                 subsample=1.0, tol=0.0001,\n",
              "                                                 validation_fraction=0.1,\n",
              "                                                 verbose=0, warm_start=False),\n",
              "             iid='deprecated', n_jobs=-1,\n",
              "             param_grid={'learning_rate': [0.1, 0.01], 'max_depth': [3, 6],\n",
              "                         'max_features': [0.2, 0.6],\n",
              "                         'min_samples_leaf': [3, 5]},\n",
              "             pre_dispatch='2*n_jobs', refit=True, return_train_score=False,\n",
              "             scoring=None, verbose=0)"
            ]
          },
          "metadata": {
            "tags": []
          },
          "execution_count": 27
        }
      ]
    },
    {
      "cell_type": "code",
      "metadata": {
        "colab": {
          "base_uri": "https://localhost:8080/"
        },
        "id": "zGNga3MvMHQp",
        "outputId": "cb353778-1f84-42b6-883e-14f335028402"
      },
      "source": [
        "gb_cv.best_estimator_"
      ],
      "execution_count": 28,
      "outputs": [
        {
          "output_type": "execute_result",
          "data": {
            "text/plain": [
              "GradientBoostingRegressor(alpha=0.9, ccp_alpha=0.0, criterion='friedman_mse',\n",
              "                          init=None, learning_rate=0.1, loss='huber',\n",
              "                          max_depth=6, max_features=0.6, max_leaf_nodes=None,\n",
              "                          min_impurity_decrease=0.0, min_impurity_split=None,\n",
              "                          min_samples_leaf=3, min_samples_split=2,\n",
              "                          min_weight_fraction_leaf=0.0, n_estimators=600,\n",
              "                          n_iter_no_change=None, presort='deprecated',\n",
              "                          random_state=None, subsample=1.0, tol=0.0001,\n",
              "                          validation_fraction=0.1, verbose=0, warm_start=False)"
            ]
          },
          "metadata": {
            "tags": []
          },
          "execution_count": 28
        }
      ]
    },
    {
      "cell_type": "markdown",
      "metadata": {
        "id": "rP_J_qquMHQr"
      },
      "source": [
        "We get a slightly better MAE than Random Forest, even though the model scoring was done on mean squared error. \n",
        "\n",
        "There is a price to be paid, however, time costly cross-validation. At the cost of less data in the training model, Gradient boosted trees can use subsampling and thus report a OOB score. See the `subsample` option in [`GradientBoostedRegressor`](https://scikit-learn.org/stable/modules/generated/sklearn.ensemble.GradientBoostingRegressor.html#sklearn.ensemble.GradientBoostingRegressor)\n",
        "\n",
        "Notice that the criterion on the splits uses a specific MSE, and we did not score on cross-validation by another loss, simply using MSE."
      ]
    },
    {
      "cell_type": "code",
      "metadata": {
        "colab": {
          "base_uri": "https://localhost:8080/"
        },
        "id": "zeSIrTNlMHQs",
        "outputId": "61971347-04b6-4376-e812-79cc78f3e8ec"
      },
      "source": [
        "mean_absolute_error(ytest, gb_cv.predict(Xtest))"
      ],
      "execution_count": 29,
      "outputs": [
        {
          "output_type": "execute_result",
          "data": {
            "text/plain": [
              "0.2888102389897343"
            ]
          },
          "metadata": {
            "tags": []
          },
          "execution_count": 29
        }
      ]
    },
    {
      "cell_type": "markdown",
      "metadata": {
        "id": "88K_tW1nMHQt"
      },
      "source": [
        "And the deviance plot shows a huge narrowing of the gap!"
      ]
    },
    {
      "cell_type": "code",
      "metadata": {
        "colab": {
          "base_uri": "https://localhost:8080/",
          "height": 502
        },
        "id": "t66zwsFUMHQt",
        "outputId": "42c1687c-53f0-4548-c288-59d318804b19"
      },
      "source": [
        "deviance_plot(gb_cv.best_estimator_, Xtest, ytest, ylim=(0,0.8));\n",
        "plt.legend();"
      ],
      "execution_count": 30,
      "outputs": [
        {
          "output_type": "display_data",
          "data": {
            "image/png": "[encoded data removed]",
            "text/plain": [
              "<Figure size 864x576 with 1 Axes>"
            ]
          },
          "metadata": {
            "tags": [],
            "needs_background": "light"
          }
        }
      ]
    },
    {
      "cell_type": "markdown",
      "metadata": {
        "id": "JsQWbuV_MHQu"
      },
      "source": [
        "We are still overfit above 100 trees. We could **early stop** at about 100 trees or play a bit more with our parameter hyperspace. We could make a smaller independent test set (validation set) and uses subsampling with OOB instead to reduce the amount of time it takes to train. (R's [`gbm`](https://cran.r-project.org/web/packages/gbm/vignettes/gbm.pdf) module, also great place to learn about Gradient boosting Models does this by default._"
      ]
    },
    {
      "cell_type": "code",
      "metadata": {
        "colab": {
          "base_uri": "https://localhost:8080/"
        },
        "id": "FEalnw3MMHQu",
        "outputId": "d5b19f5a-af5b-4b57-e892-b6c3b9f97c9a"
      },
      "source": [
        "bp = gb_cv.best_params_\n",
        "bp"
      ],
      "execution_count": 31,
      "outputs": [
        {
          "output_type": "execute_result",
          "data": {
            "text/plain": [
              "{'learning_rate': 0.1,\n",
              " 'max_depth': 6,\n",
              " 'max_features': 0.6,\n",
              " 'min_samples_leaf': 3}"
            ]
          },
          "metadata": {
            "tags": []
          },
          "execution_count": 31
        }
      ]
    },
    {
      "cell_type": "markdown",
      "metadata": {
        "id": "nD7tAL2UMHQw"
      },
      "source": [
        "Even though the predictions are not bad, I would not trust the parameters on such a small grid, as in practice these hyper-parameters tend to be highly correlated."
      ]
    },
    {
      "cell_type": "markdown",
      "metadata": {
        "id": "biZKNW6HMHQ1"
      },
      "source": [
        "We can now play with the number of iterations and the learning rate."
      ]
    },
    {
      "cell_type": "code",
      "metadata": {
        "id": "5dSsJV_NMHQ3"
      },
      "source": [
        "param_grid2 = {'learning_rate': [0.1, 0.01, 0.001]}"
      ],
      "execution_count": 32,
      "outputs": []
    },
    {
      "cell_type": "code",
      "metadata": {
        "id": "SrMGO42tMHQ4"
      },
      "source": [
        "gb2 = GradientBoostingRegressor(n_estimators=1000, \n",
        "                                loss=\"huber\", \n",
        "                                max_depth=bp['max_depth'],\n",
        "                                max_features=bp['max_features'],\n",
        "                                min_samples_leaf=bp['min_samples_leaf'])"
      ],
      "execution_count": 33,
      "outputs": []
    },
    {
      "cell_type": "code",
      "metadata": {
        "id": "VD5kzh57MHQ4"
      },
      "source": [
        "gb2_cv = GridSearchCV(gb2, param_grid2, cv=3, n_jobs=-1)"
      ],
      "execution_count": 34,
      "outputs": []
    },
    {
      "cell_type": "code",
      "metadata": {
        "colab": {
          "base_uri": "https://localhost:8080/"
        },
        "id": "zeFeerIPMHQ4",
        "outputId": "f4de7aef-b200-4f4c-9e25-ac076ff296d6"
      },
      "source": [
        "gb2_cv.fit(Xtrain, ytrain)"
      ],
      "execution_count": 35,
      "outputs": [
        {
          "output_type": "execute_result",
          "data": {
            "text/plain": [
              "GridSearchCV(cv=3, error_score=nan,\n",
              "             estimator=GradientBoostingRegressor(alpha=0.9, ccp_alpha=0.0,\n",
              "                                                 criterion='friedman_mse',\n",
              "                                                 init=None, learning_rate=0.1,\n",
              "                                                 loss='huber', max_depth=6,\n",
              "                                                 max_features=0.6,\n",
              "                                                 max_leaf_nodes=None,\n",
              "                                                 min_impurity_decrease=0.0,\n",
              "                                                 min_impurity_split=None,\n",
              "                                                 min_samples_leaf=3,\n",
              "                                                 min_samples_split=2,\n",
              "                                                 min_weight_fraction_leaf=0.0,\n",
              "                                                 n_estimators=1000,\n",
              "                                                 n_iter_no_change=None,\n",
              "                                                 presort='deprecated',\n",
              "                                                 random_state=None,\n",
              "                                                 subsample=1.0, tol=0.0001,\n",
              "                                                 validation_fraction=0.1,\n",
              "                                                 verbose=0, warm_start=False),\n",
              "             iid='deprecated', n_jobs=-1,\n",
              "             param_grid={'learning_rate': [0.1, 0.01, 0.001]},\n",
              "             pre_dispatch='2*n_jobs', refit=True, return_train_score=False,\n",
              "             scoring=None, verbose=0)"
            ]
          },
          "metadata": {
            "tags": []
          },
          "execution_count": 35
        }
      ]
    },
    {
      "cell_type": "code",
      "metadata": {
        "colab": {
          "base_uri": "https://localhost:8080/"
        },
        "id": "8skxcCVKMHQ5",
        "outputId": "bcf3f2b9-439b-4d76-9f00-0510f7249027"
      },
      "source": [
        "gb2_cv.best_estimator_"
      ],
      "execution_count": 36,
      "outputs": [
        {
          "output_type": "execute_result",
          "data": {
            "text/plain": [
              "GradientBoostingRegressor(alpha=0.9, ccp_alpha=0.0, criterion='friedman_mse',\n",
              "                          init=None, learning_rate=0.1, loss='huber',\n",
              "                          max_depth=6, max_features=0.6, max_leaf_nodes=None,\n",
              "                          min_impurity_decrease=0.0, min_impurity_split=None,\n",
              "                          min_samples_leaf=3, min_samples_split=2,\n",
              "                          min_weight_fraction_leaf=0.0, n_estimators=1000,\n",
              "                          n_iter_no_change=None, presort='deprecated',\n",
              "                          random_state=None, subsample=1.0, tol=0.0001,\n",
              "                          validation_fraction=0.1, verbose=0, warm_start=False)"
            ]
          },
          "metadata": {
            "tags": []
          },
          "execution_count": 36
        }
      ]
    },
    {
      "cell_type": "code",
      "metadata": {
        "colab": {
          "base_uri": "https://localhost:8080/"
        },
        "id": "2tsbRNV7MHQ6",
        "outputId": "f7e0d138-b90d-4432-9bd9-9bc33d156b52"
      },
      "source": [
        "mean_absolute_error(ytest, gb2_cv.predict(Xtest))"
      ],
      "execution_count": 37,
      "outputs": [
        {
          "output_type": "execute_result",
          "data": {
            "text/plain": [
              "0.2882865315085999"
            ]
          },
          "metadata": {
            "tags": []
          },
          "execution_count": 37
        }
      ]
    },
    {
      "cell_type": "code",
      "metadata": {
        "colab": {
          "base_uri": "https://localhost:8080/",
          "height": 502
        },
        "id": "oXlWecc1MHQ6",
        "outputId": "2d2296c1-bb57-4589-d8a5-ff10e9b4348b"
      },
      "source": [
        "deviance_plot(gb2_cv.best_estimator_, Xtest, ytest, ylim=(0,0.8));\n",
        "plt.legend();"
      ],
      "execution_count": 38,
      "outputs": [
        {
          "output_type": "display_data",
          "data": {
            "image/png": "[encoded data removed]",
            "text/plain": [
              "<Figure size 864x576 with 1 Axes>"
            ]
          },
          "metadata": {
            "tags": [],
            "needs_background": "light"
          }
        }
      ]
    },
    {
      "cell_type": "markdown",
      "metadata": {
        "id": "DeR4IdwYMHQ7"
      },
      "source": [
        "We are slightly better. Feature importances again:"
      ]
    },
    {
      "cell_type": "code",
      "metadata": {
        "colab": {
          "base_uri": "https://localhost:8080/",
          "height": 483
        },
        "id": "_KArJF-jMHQ7",
        "outputId": "ee3ab179-dad9-472c-c25f-c7a55b9e87ee"
      },
      "source": [
        "plt.figure(figsize=(12, 8))\n",
        "pd.Series(gb2_cv.best_estimator_.feature_importances_, index=names).sort_values().plot(kind=\"barh\");"
      ],
      "execution_count": 39,
      "outputs": [
        {
          "output_type": "display_data",
          "data": {
            "image/png": "[encoded data removed]",
            "text/plain": [
              "<Figure size 864x576 with 1 Axes>"
            ]
          },
          "metadata": {
            "tags": [],
            "needs_background": "light"
          }
        }
      ]
    },
    {
      "cell_type": "markdown",
      "metadata": {
        "id": "aTzTHac5MHQ8"
      },
      "source": [
        "### Tips:\n",
        "\n",
        "- ordinal encoding in trees for categorical variables is as effective as one-hot encoding but more efficient, using less memory and being faster. But your trees need to be deeper as you are making more cuts\n",
        "- often explicit interactions  are useful in GBRT so some `max_depth` is not bad."
      ]
    },
    {
      "cell_type": "markdown",
      "metadata": {
        "id": "xa8wBTzfMHQ8"
      },
      "source": [
        "Try to repeat the process using the Huber loss and the MAE for scoring"
      ]
    }
  ]
}